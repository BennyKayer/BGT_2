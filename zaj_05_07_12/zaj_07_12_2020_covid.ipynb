{
 "cells": [
  {
   "source": [
    "# BGT zadanie 5\n",
    "## Autors\n",
    "- Paweł Benkowski\n",
    "- Stanisław Lutkiewicz\"\n",
    "### Task\n",
    "Downloads Nietzsche and freud books count group of words in it(tiny,small,medium,big).  \n",
    "Match language by analyzing character frequency  \n",
    "Covid cases in India region   "
   ],
   "cell_type": "markdown",
   "metadata": {}
  },
  {
   "cell_type": "code",
   "execution_count": 1,
   "metadata": {
    "scrolled": true
   },
   "outputs": [
    {
     "output_type": "stream",
     "name": "stdout",
     "text": [
      "Requirement already satisfied: PyPDF2 in /opt/conda/lib/python3.8/site-packages (1.26.0)\n",
      "Requirement already satisfied: requests in /opt/conda/lib/python3.8/site-packages (2.25.0)\n",
      "Requirement already satisfied: certifi>=2017.4.17 in /opt/conda/lib/python3.8/site-packages (from requests) (2020.11.8)\n",
      "Requirement already satisfied: idna<3,>=2.5 in /opt/conda/lib/python3.8/site-packages (from requests) (2.10)\n",
      "Requirement already satisfied: urllib3<1.27,>=1.21.1 in /opt/conda/lib/python3.8/site-packages (from requests) (1.25.11)\n",
      "Requirement already satisfied: chardet<4,>=3.0.2 in /opt/conda/lib/python3.8/site-packages (from requests) (3.0.4)\n",
      "Requirement already satisfied: bs4 in /opt/conda/lib/python3.8/site-packages (0.0.1)\n",
      "Requirement already satisfied: beautifulsoup4 in /opt/conda/lib/python3.8/site-packages (from bs4) (4.9.3)\n",
      "Requirement already satisfied: soupsieve>1.2 in /opt/conda/lib/python3.8/site-packages (from beautifulsoup4->bs4) (2.0.1)\n",
      "Requirement already satisfied: nltk in /opt/conda/lib/python3.8/site-packages (3.5)\n",
      "Requirement already satisfied: tqdm in /opt/conda/lib/python3.8/site-packages (from nltk) (4.54.0)\n",
      "Requirement already satisfied: regex in /opt/conda/lib/python3.8/site-packages (from nltk) (2020.11.13)\n",
      "Requirement already satisfied: joblib in /opt/conda/lib/python3.8/site-packages (from nltk) (0.17.0)\n",
      "Requirement already satisfied: click in /opt/conda/lib/python3.8/site-packages (from nltk) (7.1.2)\n"
     ]
    }
   ],
   "source": [
    "import sys\n",
    "!{sys.executable} -m pip install PyPDF2\n",
    "!{sys.executable} -m pip install requests\n",
    "!{sys.executable} -m pip install bs4\n",
    "!{sys.executable} -m pip install nltk"
   ]
  },
  {
   "cell_type": "code",
   "execution_count": 30,
   "metadata": {},
   "outputs": [
    {
     "output_type": "stream",
     "name": "stderr",
     "text": [
      "[nltk_data] Downloading package averaged_perceptron_tagger to\n[nltk_data]     /home/jovyan/nltk_data...\n[nltk_data]   Package averaged_perceptron_tagger is already up-to-\n[nltk_data]       date!\n"
     ]
    },
    {
     "output_type": "execute_result",
     "data": {
      "text/plain": [
       "True"
      ]
     },
     "metadata": {},
     "execution_count": 30
    }
   ],
   "source": [
    "from pyspark import SparkContext, SparkFiles\n",
    "from pyspark.sql import SparkSession, functions\n",
    "from pathlib import Path\n",
    "from bs4 import BeautifulSoup\n",
    "from collections import Counter\n",
    "from operator import add\n",
    "import os\n",
    "import requests\n",
    "import PyPDF2\n",
    "import re\n",
    "import nltk\n",
    "import timeit\n",
    "nltk.download(\"averaged_perceptron_tagger\")"
   ]
  },
  {
   "cell_type": "code",
   "execution_count": 16,
   "metadata": {},
   "outputs": [],
   "source": [
    "# sc = SparkContext(\"local\", \"first app\")\n",
    "sparkSession = SparkSession.builder.master(\"local\").appName(\"spark session example\").getOrCreate()"
   ]
  },
  {
   "cell_type": "code",
   "execution_count": 17,
   "metadata": {},
   "outputs": [],
   "source": [
    "sc.addFile(\"hdfs://namenode:9000/covid_19_india.csv\")\n",
    "\n",
    "# 'hdfs:///user/bekce/myfile.json'"
   ]
  },
  {
   "cell_type": "code",
   "execution_count": 18,
   "metadata": {},
   "outputs": [],
   "source": [
    "covidIndia = SparkFiles.get(\"covid_19_india.csv\")"
   ]
  },
  {
   "cell_type": "code",
   "execution_count": 22,
   "metadata": {},
   "outputs": [],
   "source": [
    "covidDf = sparkSession.read.option(\"header\",\"true\").csv(covidIndia)"
   ]
  },
  {
   "cell_type": "code",
   "execution_count": 23,
   "metadata": {},
   "outputs": [
    {
     "output_type": "stream",
     "name": "stdout",
     "text": [
      "root\n |-- Sno: string (nullable = true)\n |-- Date: string (nullable = true)\n |-- Time: string (nullable = true)\n |-- State/UnionTerritory: string (nullable = true)\n |-- ConfirmedIndianNational: string (nullable = true)\n |-- ConfirmedForeignNational: string (nullable = true)\n |-- Cured: string (nullable = true)\n |-- Deaths: string (nullable = true)\n |-- Confirmed: string (nullable = true)\n\n"
     ]
    }
   ],
   "source": [
    "covidDf.printSchema()\n"
   ]
  },
  {
   "cell_type": "code",
   "execution_count": 44,
   "metadata": {},
   "outputs": [
    {
     "output_type": "stream",
     "name": "stdout",
     "text": [
      "max: 99930\nmin: 0\nodchylenie standatdowe: 216601.36826584276\nwariancja : 46916152734.63523\n"
     ]
    }
   ],
   "source": [
    "df_stats = covidDf.select(\n",
    "    functions.max(functions.col('Confirmed')).alias('max'),\n",
    "    functions.min(functions.col('Confirmed')).alias('min'),\n",
    "    functions.stddev(functions.col('Confirmed')).alias('std'),\n",
    "    functions.variance(functions.col('Confirmed')).alias('var')\n",
    ").collect()\n",
    "maxC = df_stats[0]['max']\n",
    "minC = df_stats[0]['min']\n",
    "std = df_stats[0]['std']\n",
    "var = df_stats[0]['var']\n",
    "print(f\"max: {maxC}\")\n",
    "print(f\"min: {minC}\")\n",
    "print(f\"odchylenie standatdowe: {std}\")\n",
    "print(f\"wariancja : {var}\")"
   ]
  }
 ],
 "metadata": {
  "kernelspec": {
   "display_name": "Python 3",
   "language": "python",
   "name": "python3"
  },
  "language_info": {
   "codemirror_mode": {
    "name": "ipython",
    "version": 3
   },
   "file_extension": ".py",
   "mimetype": "text/x-python",
   "name": "python",
   "nbconvert_exporter": "python",
   "pygments_lexer": "ipython3",
   "version": "3.8.5-final"
  }
 },
 "nbformat": 4,
 "nbformat_minor": 4
}