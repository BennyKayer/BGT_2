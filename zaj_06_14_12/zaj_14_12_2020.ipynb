{
 "cells": [
  {
   "source": [
    "# BGT zadanie 5\n",
    "## Autors\n",
    "- Paweł Benkowski\n",
    "- Stanisław Lutkiewicz\"\n",
    "### Task\n",
    "Downloads Nietzsche and freud books count group of words in it(tiny,small,medium,big).  \n",
    "Match language by analyzing character frequency  "
   ],
   "cell_type": "markdown",
   "metadata": {}
  },
  {
   "cell_type": "code",
   "execution_count": 1,
   "metadata": {
    "scrolled": true
   },
   "outputs": [
    {
     "output_type": "stream",
     "name": "stdout",
     "text": [
      "Requirement already satisfied: requests in /opt/conda/lib/python3.8/site-packages (2.25.0)\n",
      "Requirement already satisfied: idna<3,>=2.5 in /opt/conda/lib/python3.8/site-packages (from requests) (2.10)\n",
      "Requirement already satisfied: chardet<4,>=3.0.2 in /opt/conda/lib/python3.8/site-packages (from requests) (3.0.4)\n",
      "Requirement already satisfied: urllib3<1.27,>=1.21.1 in /opt/conda/lib/python3.8/site-packages (from requests) (1.25.11)\n",
      "Requirement already satisfied: certifi>=2017.4.17 in /opt/conda/lib/python3.8/site-packages (from requests) (2020.11.8)\n",
      "Collecting pyfilmweb\n",
      "  Downloading pyfilmweb-0.1.1.2.zip (12 kB)\n",
      "Building wheels for collected packages: pyfilmweb\n",
      "  Building wheel for pyfilmweb (setup.py) ... \u001b[?25ldone\n",
      "\u001b[?25h  Created wheel for pyfilmweb: filename=pyfilmweb-0.1.1.2-py3-none-any.whl size=13034 sha256=54eec2d9704de9bffd774454bdf652f5e0f70dd74ea985db38c84c1d47ea21be\n",
      "  Stored in directory: /home/jovyan/.cache/pip/wheels/50/16/88/e5281edf3b2d6afa1430eb0e6090e1c39821a90e2a883dc3ed\n",
      "Successfully built pyfilmweb\n",
      "Installing collected packages: pyfilmweb\n",
      "Successfully installed pyfilmweb-0.1.1.2\n"
     ]
    }
   ],
   "source": [
    "import sys\n",
    "!{sys.executable} -m pip install requests\n"
   ]
  },
  {
   "cell_type": "code",
   "execution_count": 27,
   "metadata": {},
   "outputs": [],
   "source": [
    "from pyspark import SparkContext, SparkFiles\n",
    "from pyspark.sql import SparkSession, functions\n",
    "from pyspark.ml.recommendation import ALS\n",
    "from pathlib import Path\n",
    "import csv\n",
    "import os\n",
    "import requests"
   ]
  },
  {
   "cell_type": "code",
   "execution_count": 23,
   "metadata": {},
   "outputs": [],
   "source": [
    "sparkSession = SparkSession.builder.master(\"local\").appName(\"spark session example\").getOrCreate()"
   ]
  },
  {
   "cell_type": "code",
   "execution_count": 10,
   "metadata": {},
   "outputs": [
    {
     "output_type": "stream",
     "name": "stdout",
     "text": [
      "<bound method RDD.name of freud/Sigmund Freud – The Complete Works.pdf.txt MapPartitionsRDD[1] at textFile at NativeMethodAccessorImpl.java:0>\n"
     ]
    },
    {
     "output_type": "error",
     "ename": "NameError",
     "evalue": "name 'count_letters_and_print_ratio_and_language' is not defined",
     "traceback": [
      "\u001b[0;31m---------------------------------------------------------------------------\u001b[0m",
      "\u001b[0;31mNameError\u001b[0m                                 Traceback (most recent call last)",
      "\u001b[0;32m<ipython-input-10-6f51351693fd>\u001b[0m in \u001b[0;36m<module>\u001b[0;34m\u001b[0m\n\u001b[1;32m      6\u001b[0m     \u001b[0mlowerCaseText\u001b[0m \u001b[0;34m=\u001b[0m \u001b[0mfile\u001b[0m\u001b[0;34m.\u001b[0m\u001b[0mmap\u001b[0m\u001b[0;34m(\u001b[0m\u001b[0;32mlambda\u001b[0m \u001b[0mx\u001b[0m\u001b[0;34m:\u001b[0m \u001b[0mx\u001b[0m\u001b[0;34m.\u001b[0m\u001b[0mlower\u001b[0m\u001b[0;34m(\u001b[0m\u001b[0;34m)\u001b[0m\u001b[0;34m)\u001b[0m\u001b[0;34m\u001b[0m\u001b[0;34m\u001b[0m\u001b[0m\n\u001b[1;32m      7\u001b[0m     \u001b[0mlowerCaseLetters\u001b[0m \u001b[0;34m=\u001b[0m \u001b[0mlowerCaseText\u001b[0m\u001b[0;34m.\u001b[0m\u001b[0mflatMap\u001b[0m\u001b[0;34m(\u001b[0m\u001b[0;32mlambda\u001b[0m \u001b[0mx\u001b[0m\u001b[0;34m:\u001b[0m \u001b[0mre\u001b[0m\u001b[0;34m.\u001b[0m\u001b[0mfindall\u001b[0m\u001b[0;34m(\u001b[0m\u001b[0;34mr\"[a-zA-Z]\"\u001b[0m\u001b[0;34m,\u001b[0m \u001b[0mx\u001b[0m\u001b[0;34m)\u001b[0m\u001b[0;34m)\u001b[0m\u001b[0;34m\u001b[0m\u001b[0;34m\u001b[0m\u001b[0m\n\u001b[0;32m----> 8\u001b[0;31m     \u001b[0mcount_letters_and_print_ratio_and_language\u001b[0m\u001b[0;34m(\u001b[0m\u001b[0mlowerCaseLetters\u001b[0m\u001b[0;34m)\u001b[0m\u001b[0;34m\u001b[0m\u001b[0;34m\u001b[0m\u001b[0m\n\u001b[0m\u001b[1;32m      9\u001b[0m \u001b[0;34m\u001b[0m\u001b[0m\n\u001b[1;32m     10\u001b[0m     \u001b[0mwords\u001b[0m \u001b[0;34m=\u001b[0m \u001b[0mlowerCaseText\u001b[0m\u001b[0;34m.\u001b[0m\u001b[0mflatMap\u001b[0m\u001b[0;34m(\u001b[0m\u001b[0;32mlambda\u001b[0m \u001b[0mx\u001b[0m \u001b[0;34m:\u001b[0m \u001b[0mre\u001b[0m\u001b[0;34m.\u001b[0m\u001b[0mfindall\u001b[0m\u001b[0;34m(\u001b[0m\u001b[0;34mr\"\\b[^\\d\\W]+\\b\"\u001b[0m\u001b[0;34m,\u001b[0m \u001b[0mx\u001b[0m\u001b[0;34m)\u001b[0m\u001b[0;34m)\u001b[0m\u001b[0;34m\u001b[0m\u001b[0;34m\u001b[0m\u001b[0m\n",
      "\u001b[0;31mNameError\u001b[0m: name 'count_letters_and_print_ratio_and_language' is not defined"
     ]
    }
   ],
   "source": [
    "start = timeit.default_timer()\n",
    "# pfiles = sc.parallelize(files).foreach(do_work)\n",
    "for file in files: # paralize -> foreach\n",
    "    startIn = timeit.default_timer()\n",
    "    print(file.name)\n",
    "    lowerCaseText = file.map(lambda x: x.lower())\n",
    "    lowerCaseLetters = lowerCaseText.flatMap(lambda x: re.findall(r\"[a-zA-Z]\", x))\n",
    "    count_letters_and_print_ratio_and_language(lowerCaseLetters)\n",
    "\n",
    "    words = lowerCaseText.flatMap(lambda x : re.findall(r\"\\b[^\\d\\W]+\\b\", x))\n",
    "    create_groups_and_print_count(words)\n",
    "\n",
    "    wordsForCounting = words.map(lambda x: (x,1))\n",
    "    countedNouns = wordsForCounting.reduceByKey(add).filter(lambda x: is_noun(x[0])).collect()\n",
    "\n",
    "    kNouns = Counter(dict(countedNouns))\n",
    "    kWords = Counter(words.collect())\n",
    "    \n",
    "    print(f\"total word {words.count()}\")\n",
    "    print(f\"most common {kWords.most_common(10)}\")\n",
    "    print(f\"top nouns {kNouns.most_common(3)}\")\n",
    "    print(f\"time spend {timeit.default_timer() - startIn}\")\n",
    "    print(30*\"----\")\n",
    "print(f\"total time spend {timeit.default_timer()-start}\")"
   ]
  },
  {
   "cell_type": "code",
   "execution_count": 72,
   "metadata": {},
   "outputs": [
    {
     "output_type": "stream",
     "name": "stdout",
     "text": [
      "{2: 'Polowanie na Czerwony Październik', 17: 'Rick i Morty', 3: 'Teoria Wielkiego Podrywu', 8: 'Braveheart', 4: 'The Expanse', 28: 'Miasteczko South Park', 18: 'Kraina Lodu', 10: 'Dziennik Bridget Jones', 12: 'Kapitan Ameryka: Wojna bohaterów', 1: 'Avengers: Czas Ultrona', 16: 'Terminator 2', 5: 'Planeta Singli', 27: 'List do M.', 23: 'List do M. 2', 13: 'Forrest Gump', 14: 'Ex Machina', 22: 'Gran Torino', 9: 'Cicha Noc', 0: 'Battleship: Bitwa o Ziemię', 20: 'Narodziny Gwiazdy', 11: 'Kapitan Phillips', 15: 'Grand Budapest Hotel', 24: 'Wyjazd integracyjny', 21: 'John Wick', 26: 'Narcos', 29: 'Terminal', 19: 'Ona', 6: 'Whiplash', 25: 'Diabeł ubiera się u Prady', 7: 'La Casa De Papel', 53: \"Queen's gambit\", 55: 'Devs', 37: 'Mr. robot', 33: 'Mindhunter', 38: 'Ex machina ', 34: '11.22.63', 44: 'Shrek', 46: 'Silicon Valley', 52: 'The I-land', 47: ' Sense 8', 32: 'Sherlock', 42: 'Colony', 43: 'Travelers', 40: 'Prison break', 54: 'Maniac', 45: 'Orange is the new black', 41: 'Westworld', 57: 'The Walking Dead', 48: 'Atypical', 56: 'The Mole Agent', 35: 'True detective', 31: 'Into the night', 51: 'Legion', 49: 'Chernobyl', 30: 'House', 39: 'The umbrella academy', 36: 'Stranger Things', 50: 'Black mirror', 76: 'Joker', 77: 'Kimi no na wa', 74: 'One Piece', 63: 'Koe no katachi', 73: 'Venom', 58: 'Dororo', 60: 'Suicide squad', 82: 'Batman v Superman', 66: 'Star Wars Łort 1', 75: 'Matrix', 79: 'Terminator: Genisys', 78: 'Wiedźmin', 62: 'Spider-Man: Homecoming', 64: 'Player One', 72: 'Spider-man Uniwersum', 80: 'Paradise PD', 61: 'The Umbrella Academy', 70: 'Flash', 67: 'Arrow', 68: 'Avatar: The Last Airbender', 81: 'Gotham', 59: 'Dragon Ball Super: Broly', 65: 'Bleach', 71: 'Pokémon: Detektyw Pikachu', 69: 'Deadpool', 89: 'Breaking Bad', 91: 'One piece', 85: 'Incepcja', 99: 'Parasite', 94: 'Black Mirror ', 101: 'Sense8', 97: 'Game of Thrones', 84: 'Vikings', 88: 'Code Geass', 100: 'Japan Sinks: 2020', 86: 'Dark', 92: 'Shingeki no Kyojin', 95: 'Dragon Ball Z', 96: 'Interstellar', 98: 'Fullmetal Alchemist: Brotherhood', 90: 'Steins;Gate', 87: 'Love, Death & Robots', 83: 'Marco Polo', 93: 'The Punisher', 106: 'Adwokat diabła', 107: 'Władca Pierścieni', 108: 'Naruto', 104: 'Szybcy i wściekli', 109: 'Dom zły', 105: 'Last minute', 116: 'Psy 1', 113: 'Psy 2', 102: 'Kapitan Ameryka: Zimowy żołnierz', 114: 'Wiedzmin', 117: 'Żółty szalik', 115: 'Uprowadzona', 112: 'Pasażer', 110: 'Blade Runner 2049', 111: 'Irlandczyk', 103: 'House of Cards', 137: 'South Park - serial', 129: 'South Park - film', 124: 'Władca Pierścieni - Drużyna PIerścienia', 130: 'Władca Pierścieni: Dwie wieże ', 138: 'Władca Pierścieni: Powrót króla', 122: 'Ichiban Ushiro no Daimaou', 128: 'Martwica mózgu', 140: 'Zombie SS 2', 139: 'Altered Carbon', 131: 'Rzym', 135: 'The Barbarians', 133: 'Family Guy', 136: 'The Simpsons', 120: 'Castlevania', 127: 'Adventure Time', 123: 'Twin Peaks', 121: 'Night of the Living Jews', 119: 'Boo-san-haeng', 118: 'Der Ewige Jude', 125: 'Dragon Ball Super', 132: 'Kore Wa Zombie desu ka?', 134: 'World War Z', 126: 'The Witcher', 158: 'Zabójcza broń', 160: 'Wściekłe psy', 141: 'Shrek 2', 153: 'Cast Away: Poza światem', 151: 'Marsjanin', 148: 'Historia małżeńska', 156: 'Król', 146: 'Lighthouse', 162: 'Diabeł wcielony', 142: 'Zaginione miasto Z', 144: 'Ad Astra', 164: 'Urodzeni mordercy', 157: 'To nie jest kraj dla starych ludzi', 152: 'Prawdziwy romans', 145: 'Łowca jeleni', 154: 'Co ty wiesz o swoim dziadku?', 143: 'Jackie Brown', 147: 'Mission: Impossible – Ghost Protocol', 159: 'Wywiad z wampirem', 155: 'Diuna 1984', 163: 'Zagubiona autostrada', 149: 'Za wszelką cenę', 161: 'Bez przebaczenia', 150: 'Straż przyboczna', 173: 'The Irishman', 168: 'American Psycho', 176: 'Manhunt:Unabomber', 167: 'Broadchurch', 166: 'The Last Samurai', 169: 'BoJack', 170: '\\tThe End of the F***ing World', 165: 'The Office', 172: 'Pulp Fiction', 175: 'Making a Murderer Part 1', 177: 'Django', 174: 'Blade Runner', 171: 'The Peaky Blinders', 186: 'Buntownik z wyboru', 196: 'Nienawistna ósemka', 184: 'A.I. Sztuczna inteligencja', 194: 'Dwunastu gniewnych ludzi', 179: 'Leon zawodowiec', 180: 'Truman show', 185: 'Gladiator', 191: 'Edward nożycoręki', 181: 'Chłopiec w pasiastej piżamie', 178: 'Nietykalni', 190: 'Lista Schindlera', 189: 'Złap mnie, jęsli potrafisz', 187: 'W pogoni za szczęściem', 182: 'Slumdog. Milioner z ulicy', 195: 'Człowiek-scyzoryk', 188: 'Black Mirror', 192: 'Bękarty wojny', 183: 'Igrzyska śmierci', 193: 'Gra tajemnic ', 207: 'Casino', 214: 'Goodfellas', 206: 'Fight Club', 202: 'Se7en', 209: 'Seven Pounds', 210: 'A Beautiful Mind', 203: 'The Butterfly Effect', 205: 'donnie brasco', 204: 'donnie darko', 197: 'Scent of a Woman', 212: 'American History X', 201: 'Lord of War', 198: 'K-PAX', 208: 'Blow', 213: 'Meet Joe Black', 211: 'Full Metal Jacket', 199: 'Chłopaki nie płaczą', 200: 'Casino Royale', 228: 'Czas apokalipsy', 231: 'Pluton', 224: 'Szeregowiec Ryan', 229: 'Zjawa', 227: 'Infiltracja', 222: 'Brickleberry', 216: 'Szczęki', 223: 'Park jurajski', 232: 'Skazani na Shawshank', 215: 'Czarnobyl', 220: 'Kiler', 219: 'Dzień Świra', 233: 'Toy Story', 218: 'Powrót do przyszłości', 230: 'Ojciec Chrzestny', 226: 'Borat', 221: 'Avengers', 225: 'Dunkierka', 217: 'Czarna pantera'}\n{0: 'Paweł Czapiewski', 1: 'Ola Piętka', 2: 'Robert Deyk', 3: 'Jaromir Daruk', 4: 'Benedykt Kościński', 5: 'Paweł Benkowski', 6: 'Filip Mikołajek', 7: 'Jakub Kulaszewicz', 8: 'Robert Mielewczyk', 9: 'Stanisław Lutkiewicz', 10: 'Wiktor Maj'}\n"
     ]
    }
   ],
   "source": [
    "'''\n",
    "Read and format data for further calculation\n",
    "'''\n",
    "fileName = \"BigData - Filmy.csv\"\n",
    "userRatings = {}\n",
    "titles = {}\n",
    "combinedUsersTitlesRating = []\n",
    "numberToTitle = {}\n",
    "numberToUser = {}\n",
    "with open(fileName) as csvFile:\n",
    "    csvReader = csv.reader(csvFile,delimiter=\";\")\n",
    "    for row in csvReader:\n",
    "        # print(row)\n",
    "        user = row[0]\n",
    "        filmy = row[1::2]\n",
    "        oceny = row[2::2]\n",
    "\n",
    "        for film in set(filmy):\n",
    "            if film not in titles.keys():\n",
    "                titles[film]=len(titles)\n",
    "            # print(film)\n",
    "        userRatings[user] = dict(zip(filmy, oceny))\n",
    "# print(titles)\n",
    "# print(movies.keys())\n",
    "users = dict(zip(userRatings.keys(),list(range(len(userRatings.keys())))))\n",
    "for name,movies in userRatings.items():\n",
    "    numberToUser[users[name]] = name\n",
    "    for title,rating in movies.items():\n",
    "        combination = (users[name],titles[title],float(rating))\n",
    "        numberToTitle[titles[title]] = title\n",
    "        combinedUsersTitlesRating.append(combination)\n",
    "\n",
    "print(numberToTitle)\n",
    "print(numberToUser)\n",
    "# print(combinedUsersTitlesRating)\n",
    "# for user in movies:\n",
    "#     for movies in user:\n",
    "\n",
    "# print(movies)"
   ]
  },
  {
   "cell_type": "code",
   "execution_count": 47,
   "metadata": {},
   "outputs": [
    {
     "output_type": "stream",
     "name": "stdout",
     "text": [
      "[(0, 2, 10.0), (0, 17, 10.0), (0, 3, 8.0), (0, 8, 10.0), (0, 4, 7.0), (0, 28, 9.0), (0, 18, 5.0), (0, 10, 6.0), (0, 12, 3.0), (0, 1, 2.0), (0, 16, 9.0), (0, 5, 7.0), (0, 27, 7.0), (0, 23, 2.0), (0, 13, 10.0), (0, 14, 10.0), (0, 22, 9.0), (0, 9, 1.0), (0, 0, 1.0), (0, 20, 2.0), (0, 11, 9.0), (0, 15, 9.0), (0, 24, 1.0), (0, 21, 7.0), (0, 26, 10.0), (0, 29, 8.0), (0, 19, 8.0), (0, 6, 10.0), (0, 25, 9.0), (0, 7, 8.0), (1, 53, 10.0), (1, 55, 7.0), (1, 37, 8.0), (1, 4, 7.0), (1, 33, 8.0), (1, 38, 10.0), (1, 7, 9.0), (1, 34, 7.0), (1, 44, 6.0), (1, 46, 9.0), (1, 52, 2.0), (1, 47, 6.0), (1, 32, 9.0), (1, 42, 6.0), (1, 43, 7.0), (1, 40, 7.0), (1, 54, 8.0), (1, 45, 7.0), (1, 41, 10.0), (1, 57, 4.0), (1, 48, 5.0), (1, 56, 2.0), (1, 35, 9.0), (1, 31, 3.0), (1, 51, 6.0), (1, 49, 9.0), (1, 30, 8.0), (1, 39, 7.0), (1, 36, 6.0), (1, 50, 10.0), (2, 17, 8.0), (2, 76, 9.0), (2, 14, 9.0), (2, 77, 10.0), (2, 74, 10.0), (2, 63, 8.0), (2, 73, 5.0), (2, 58, 9.0), (2, 60, 3.0), (2, 32, 7.0), (2, 82, 2.0), (2, 66, 1.0), (2, 75, 7.0), (2, 79, 1.0), (2, 78, 5.0), (2, 62, 8.0), (2, 64, 9.0), (2, 72, 10.0), (2, 10, 3.0), (2, 18, 7.0), (2, 80, 10.0), (2, 61, 10.0), (2, 70, 7.0), (2, 67, 6.0), (2, 68, 10.0), (2, 81, 3.0), (2, 59, 9.0), (2, 65, 1.0), (2, 71, 5.0), (2, 69, 10.0), (3, 89, 10.0), (3, 91, 10.0), (3, 85, 10.0), (3, 99, 10.0), (3, 37, 10.0), (3, 44, 9.0), (3, 57, 7.0), (3, 36, 10.0), (3, 94, 10.0), (3, 101, 9.0), (3, 97, 8.0), (3, 84, 9.0), (3, 33, 10.0), (3, 63, 9.0), (3, 88, 10.0), (3, 49, 10.0), (3, 100, 10.0), (3, 86, 7.0), (3, 92, 10.0), (3, 95, 10.0), (3, 96, 10.0), (3, 71, 6.0), (3, 64, 10.0), (3, 21, 8.0), (3, 98, 10.0), (3, 90, 10.0), (3, 14, 10.0), (3, 87, 10.0), (3, 83, 7.0), (3, 93, 9.0), (4, 106, 8.0), (4, 107, 8.0), (4, 108, 9.0), (4, 75, 8.0), (4, 104, 7.0), (4, 109, 9.0), (4, 7, 6.0), (4, 8, 9.0), (4, 44, 10.0), (4, 13, 8.0), (4, 105, 1.0), (4, 57, 5.0), (4, 116, 8.0), (4, 113, 7.0), (4, 1, 3.0), (4, 102, 3.0), (4, 89, 9.0), (4, 114, 7.0), (4, 24, 1.0), (4, 10, 3.0), (4, 18, 4.0), (4, 37, 7.0), (4, 117, 9.0), (4, 115, 8.0), (4, 112, 8.0), (4, 28, 8.0), (4, 110, 9.0), (4, 111, 8.0), (4, 97, 6.0), (4, 103, 8.0), (5, 99, 10.0), (5, 137, 10.0), (5, 129, 9.0), (5, 17, 1.0), (5, 124, 10.0), (5, 130, 10.0), (5, 138, 10.0), (5, 44, 10.0), (5, 58, 10.0), (5, 122, 1.0), (5, 128, 1.0), (5, 140, 6.0), (5, 139, 5.0), (5, 131, 5.0), (5, 135, 10.0), (5, 133, 8.0), (5, 136, 8.0), (5, 120, 9.0), (5, 127, 9.0), (5, 123, 8.0), (5, 121, 6.0), (5, 119, 9.0), (5, 118, 7.0), (5, 89, 10.0), (5, 97, 7.0), (5, 57, 6.0), (5, 125, 1.0), (5, 132, 10.0), (5, 134, 8.0), (5, 126, 8.0), (6, 6, 10.0), (6, 158, 9.0), (6, 110, 10.0), (6, 160, 9.0), (6, 141, 9.0), (6, 153, 10.0), (6, 151, 10.0), (6, 82, 6.0), (6, 148, 10.0), (6, 156, 7.0), (6, 146, 10.0), (6, 162, 9.0), (6, 62, 6.0), (6, 142, 7.0), (6, 144, 8.0), (6, 164, 8.0), (6, 157, 9.0), (6, 152, 8.0), (6, 145, 10.0), (6, 154, 1.0), (6, 143, 7.0), (6, 147, 8.0), (6, 159, 8.0), (6, 78, 8.0), (6, 155, 7.0), (6, 163, 8.0), (6, 149, 9.0), (6, 22, 6.0), (6, 161, 10.0), (6, 150, 9.0), (7, 173, 10.0), (7, 168, 10.0), (7, 176, 10.0), (7, 33, 10.0), (7, 167, 9.0), (7, 166, 8.0), (7, 169, 10.0), (7, 26, 9.0), (7, 170, 8.0), (7, 75, 9.0), (7, 165, 10.0), (7, 172, 10.0), (7, 175, 8.0), (7, 177, 8.0), (7, 174, 9.0), (7, 49, 8.0), (7, 89, 8.0), (7, 139, 5.0), (7, 171, 8.0), (7, 96, 9.0), (7, 37, 7.0), (7, 21, 7.0), (7, 97, 8.0), (7, 78, 8.0), (7, 44, 10.0), (7, 36, 9.0), (7, 7, 9.0), (7, 61, 6.0), (7, 103, 8.0), (8, 186, 10.0), (8, 160, 10.0), (8, 196, 9.0), (8, 184, 10.0), (8, 14, 8.0), (8, 194, 10.0), (8, 179, 10.0), (8, 180, 9.0), (8, 185, 8.0), (8, 191, 7.0), (8, 181, 9.0), (8, 178, 9.0), (8, 21, 8.0), (8, 190, 10.0), (8, 189, 8.0), (8, 187, 8.0), (8, 89, 8.0), (8, 182, 8.0), (8, 6, 8.0), (8, 195, 8.0), (8, 188, 10.0), (8, 37, 4.0), (8, 192, 7.0), (8, 97, 9.0), (8, 115, 7.0), (8, 49, 9.0), (8, 183, 8.0), (8, 7, 7.0), (8, 193, 8.0), (8, 126, 7.0), (9, 106, 9.0), (9, 185, 9.0), (9, 11, 8.0), (9, 6, 9.0), (9, 8, 9.0), (9, 171, 8.0), (9, 207, 9.0), (9, 214, 9.0), (9, 21, 5.0), (9, 25, 7.0), (9, 206, 9.0), (9, 202, 9.0), (9, 209, 8.0), (9, 210, 9.0), (9, 203, 8.0), (9, 205, 9.0), (9, 204, 8.0), (9, 197, 8.0), (9, 212, 9.0), (9, 201, 8.0), (9, 198, 9.0), (9, 208, 9.0), (9, 213, 9.0), (9, 211, 9.0), (9, 7, 7.0), (9, 199, 7.0), (9, 200, 6.0), (9, 75, 7.0), (9, 97, 8.0), (9, 44, 9.0), (10, 228, 10.0), (10, 231, 10.0), (10, 224, 10.0), (10, 229, 10.0), (10, 196, 9.0), (10, 227, 9.0), (10, 151, 9.0), (10, 96, 8.0), (10, 177, 8.0), (10, 222, 7.0), (10, 216, 5.0), (10, 223, 4.0), (10, 76, 8.0), (10, 13, 7.0), (10, 75, 7.0), (10, 232, 6.0), (10, 215, 8.0), (10, 199, 7.0), (10, 220, 6.0), (10, 219, 6.0), (10, 233, 3.0), (10, 218, 7.0), (10, 230, 5.0), (10, 226, 6.0), (10, 69, 5.0), (10, 221, 2.0), (10, 200, 5.0), (10, 225, 6.0), (10, 217, 4.0), (10, 104, 1.0)]\n"
     ]
    }
   ],
   "source": [
    "'''\n",
    "https://spark.apache.org/docs/latest/api/python/pyspark.ml.html#module-pyspark.ml.recommendation\n",
    "create model adn get recommendation\n",
    "'''\n",
    "df = sparkSession.createDataFrame(combinedUsersTitlesRating, [\"user\", \"item\", \"rating\"])\n",
    "print(combinedUsersTitlesRating)\n"
   ]
  },
  {
   "cell_type": "code",
   "execution_count": 48,
   "metadata": {},
   "outputs": [
    {
     "output_type": "execute_result",
     "data": {
      "text/plain": [
       "4096"
      ]
     },
     "metadata": {},
     "execution_count": 48
    }
   ],
   "source": [
    "als = ALS(rank=10, seed=0)\n",
    "als.setMaxIter(5)\n",
    "als.getMaxIter()\n",
    "als.setRegParam(0.1)\n",
    "als.getRegParam()\n",
    "als.clear(als.regParam)\n",
    "model = als.fit(df)\n",
    "model.getBlockSize()"
   ]
  },
  {
   "cell_type": "code",
   "execution_count": 98,
   "metadata": {},
   "outputs": [],
   "source": [
    "userId = 0\n",
    "\n",
    "userTitles = [x[1] for x in combinedUsersTitlesRating if x[0] == userId]\n",
    "input = [(userId,x) for x in titles.values() if x not in userTitles]\n",
    "# print(input)\n",
    "# for \n",
    "\n",
    "test = sparkSession.createDataFrame(input, [\"user\", \"item\"])\n",
    "predictions = sorted(model.transform(test).collect(), key=lambda r: r[2],reverse=True)\n",
    "user_recs = model.recommendForAllUsers(40)\n",
    "rec = user_recs.where(user_recs.user == userId).select(\"recommendations.item\", \"recommendations.rating\").collect()\n",
    "\n",
    "# create dict to reverse numbers to movies\n",
    "# predictions[0]\n",
    "# print(predictions)"
   ]
  },
  {
   "cell_type": "code",
   "execution_count": 102,
   "metadata": {},
   "outputs": [
    {
     "output_type": "stream",
     "name": "stdout",
     "text": [
      "[26, 2, 14, 6, 8, 13, 17, 11, 16, 15, 25, 28, 22, 96, 151, 64, 29, 3, 19, 7, 33, 49, 196, 160, 75, 63, 36, 76, 27, 5, 21, 4, 177, 110, 62, 61, 37, 44, 148, 146]\nInterstellar\nMarsjanin\nPlayer One\nMindhunter\nChernobyl\nInterstellar\nMarsjanin\nPlayer One\nMindhunter\nChernobyl\n"
     ]
    }
   ],
   "source": [
    "print(rec[0][0])\n",
    "# print(predictions)\n",
    "counter = 0\n",
    "for row in predictions:\n",
    "    if counter < 5:\n",
    "        print(numberToTitle[row[1]])\n",
    "        counter+=1\n",
    "counter = 0\n",
    "for movie in rec[0][0]:\n",
    "    if movie not in userTitles:\n",
    "        if counter < 5:\n",
    "            print(numberToTitle[movie])\n",
    "            counter+=1"
   ]
  },
  {
   "cell_type": "code",
   "execution_count": null,
   "metadata": {},
   "outputs": [],
   "source": []
  }
 ],
 "metadata": {
  "kernelspec": {
   "display_name": "Python 3",
   "language": "python",
   "name": "python3"
  },
  "language_info": {
   "codemirror_mode": {
    "name": "ipython",
    "version": 3
   },
   "file_extension": ".py",
   "mimetype": "text/x-python",
   "name": "python",
   "nbconvert_exporter": "python",
   "pygments_lexer": "ipython3",
   "version": "3.8.5-final"
  }
 },
 "nbformat": 4,
 "nbformat_minor": 4
}